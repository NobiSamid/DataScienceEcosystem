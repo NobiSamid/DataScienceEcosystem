{
 "cells": [
  {
   "cell_type": "markdown",
   "id": "6f3aa992-aa5f-4c74-b76f-52b70cd8fae0",
   "metadata": {},
   "source": [
    "# Data Science Tools and Ecosystem #"
   ]
  },
  {
   "cell_type": "markdown",
   "id": "e0fa42a5-f85a-4722-b0be-5f9868c3164d",
   "metadata": {},
   "source": [
    "In this notebook, Data Science Tools and Ecosystem are summarized."
   ]
  },
  {
   "cell_type": "markdown",
   "id": "4d754266-cfd8-422b-abf4-7795918c8be6",
   "metadata": {},
   "source": [
    "**Objectives**\n",
    "\n",
    "- List popular languages for Data Science\n",
    "- List of popular libraries \n",
    "- Some Data Science tool\n",
    "- Some Python arithmatic expression\n"
   ]
  },
  {
   "cell_type": "markdown",
   "id": "83d40a2d-181c-43e9-9751-ac3917a30955",
   "metadata": {},
   "source": [
    "Some of the popular languages that Data Scientists use are:\n",
    "1. Python\n",
    "2. R\n",
    "3. SQL\n"
   ]
  },
  {
   "cell_type": "markdown",
   "id": "702dc261-06c6-41d5-bef1-ff77ad9c0e1c",
   "metadata": {},
   "source": [
    "Some of the commonly used libraries used by Data Scientists include:\n",
    "1. Pandas\n",
    "2. Numpy\n",
    "3. Matplotlib\n"
   ]
  },
  {
   "cell_type": "markdown",
   "id": "1ce0b379-04bf-484e-902c-620d9695541b",
   "metadata": {},
   "source": [
    "|Data Science Tools |\n",
    "|:---:|\n",
    "|Jupyter Notebook|\n",
    "|RStudio|\n",
    "|Apache Spark|"
   ]
  },
  {
   "cell_type": "markdown",
   "id": "31bb147a-8ac8-4e3b-ace5-187009d913ad",
   "metadata": {},
   "source": [
    "### \n",
    "Below are a few examples of evaluating arithmetic expressions in Python ###"
   ]
  },
  {
   "cell_type": "code",
   "execution_count": 4,
   "id": "9352aceb-c8df-4f69-b1fc-f7c9c96f1aa8",
   "metadata": {},
   "outputs": [
    {
     "name": "stdout",
     "output_type": "stream",
     "text": [
      "143\n"
     ]
    }
   ],
   "source": [
    "a = 54\n",
    "b = 89\n",
    "c = a + b\n",
    "print(c)"
   ]
  },
  {
   "cell_type": "code",
   "execution_count": 5,
   "id": "9edf1b48-43ef-4eef-8efd-7f67927aa319",
   "metadata": {},
   "outputs": [
    {
     "name": "stdout",
     "output_type": "stream",
     "text": [
      "13\n"
     ]
    }
   ],
   "source": [
    "x = 443\n",
    "y = 43\n",
    "z = x % y\n",
    "print(z)"
   ]
  },
  {
   "cell_type": "code",
   "execution_count": 6,
   "id": "48d99f4c-0520-4972-8a85-1177bc095685",
   "metadata": {},
   "outputs": [
    {
     "name": "stdout",
     "output_type": "stream",
     "text": [
      "487\n"
     ]
    }
   ],
   "source": [
    "p = 34\n",
    "q = 43\n",
    "r = 3\n",
    "s = p * q // r\n",
    "print(s)"
   ]
  },
  {
   "cell_type": "code",
   "execution_count": 9,
   "id": "c8782510-599b-4f40-a765-73ea14091748",
   "metadata": {},
   "outputs": [
    {
     "name": "stdout",
     "output_type": "stream",
     "text": [
      "17\n"
     ]
    }
   ],
   "source": [
    "#This a simple arithmetic expression to mutiply then add integers\n",
    "x = (3*4)+5\n",
    "print(x)"
   ]
  },
  {
   "cell_type": "code",
   "execution_count": 13,
   "id": "c37a9f00-9483-4ac0-8d23-c97904437be5",
   "metadata": {},
   "outputs": [
    {
     "name": "stdout",
     "output_type": "stream",
     "text": [
      "3.3333333333333335 hour\n"
     ]
    }
   ],
   "source": [
    "#This will convert 200 minutes to hours by diving by 60\n",
    "minute = 200\n",
    "hour = minute / 60\n",
    "print(f\"{hour} hour\")"
   ]
  },
  {
   "cell_type": "markdown",
   "id": "659e3501-9713-4feb-aac1-6acd06c656ed",
   "metadata": {},
   "source": [
    "## Author\n",
    "Khoundokar Samiun Nobi Samid"
   ]
  },
  {
   "cell_type": "code",
   "execution_count": null,
   "id": "640cedcf-e2b7-4a6d-a89e-a88dc7cb4b48",
   "metadata": {},
   "outputs": [],
   "source": []
  }
 ],
 "metadata": {
  "kernelspec": {
   "display_name": "Python 3 (ipykernel)",
   "language": "python",
   "name": "python3"
  },
  "language_info": {
   "codemirror_mode": {
    "name": "ipython",
    "version": 3
   },
   "file_extension": ".py",
   "mimetype": "text/x-python",
   "name": "python",
   "nbconvert_exporter": "python",
   "pygments_lexer": "ipython3",
   "version": "3.11.9"
  }
 },
 "nbformat": 4,
 "nbformat_minor": 5
}
